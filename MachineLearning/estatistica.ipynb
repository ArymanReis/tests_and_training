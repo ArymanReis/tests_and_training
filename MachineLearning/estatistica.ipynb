{
 "cells": [
  {
   "cell_type": "code",
   "execution_count": 2,
   "metadata": {},
   "outputs": [
    {
     "name": "stdout",
     "output_type": "stream",
     "text": [
      "Requirement already satisfied: pandas in c:\\users\\aryma\\appdata\\local\\programs\\python\\python313\\lib\\site-packages (2.2.3)\n",
      "Requirement already satisfied: numpy in c:\\users\\aryma\\appdata\\local\\programs\\python\\python313\\lib\\site-packages (2.2.3)\n",
      "Requirement already satisfied: matplotlib in c:\\users\\aryma\\appdata\\local\\programs\\python\\python313\\lib\\site-packages (3.10.0)\n",
      "Requirement already satisfied: python-dateutil>=2.8.2 in c:\\users\\aryma\\appdata\\roaming\\python\\python313\\site-packages (from pandas) (2.9.0.post0)\n",
      "Requirement already satisfied: pytz>=2020.1 in c:\\users\\aryma\\appdata\\local\\programs\\python\\python313\\lib\\site-packages (from pandas) (2025.1)\n",
      "Requirement already satisfied: tzdata>=2022.7 in c:\\users\\aryma\\appdata\\local\\programs\\python\\python313\\lib\\site-packages (from pandas) (2025.1)\n",
      "Requirement already satisfied: contourpy>=1.0.1 in c:\\users\\aryma\\appdata\\local\\programs\\python\\python313\\lib\\site-packages (from matplotlib) (1.3.1)\n",
      "Requirement already satisfied: cycler>=0.10 in c:\\users\\aryma\\appdata\\local\\programs\\python\\python313\\lib\\site-packages (from matplotlib) (0.12.1)\n",
      "Requirement already satisfied: fonttools>=4.22.0 in c:\\users\\aryma\\appdata\\local\\programs\\python\\python313\\lib\\site-packages (from matplotlib) (4.56.0)\n",
      "Requirement already satisfied: kiwisolver>=1.3.1 in c:\\users\\aryma\\appdata\\local\\programs\\python\\python313\\lib\\site-packages (from matplotlib) (1.4.8)\n",
      "Requirement already satisfied: packaging>=20.0 in c:\\users\\aryma\\appdata\\roaming\\python\\python313\\site-packages (from matplotlib) (24.2)\n",
      "Requirement already satisfied: pillow>=8 in c:\\users\\aryma\\appdata\\local\\programs\\python\\python313\\lib\\site-packages (from matplotlib) (11.1.0)\n",
      "Requirement already satisfied: pyparsing>=2.3.1 in c:\\users\\aryma\\appdata\\local\\programs\\python\\python313\\lib\\site-packages (from matplotlib) (3.2.1)\n",
      "Requirement already satisfied: six>=1.5 in c:\\users\\aryma\\appdata\\roaming\\python\\python313\\site-packages (from python-dateutil>=2.8.2->pandas) (1.17.0)\n",
      "Note: you may need to restart the kernel to use updated packages.\n"
     ]
    },
    {
     "name": "stderr",
     "output_type": "stream",
     "text": [
      "\n",
      "[notice] A new release of pip is available: 24.3.1 -> 25.0.1\n",
      "[notice] To update, run: python.exe -m pip install --upgrade pip\n"
     ]
    }
   ],
   "source": [
    "%pip install pandas numpy matplotlib"
   ]
  },
  {
   "cell_type": "code",
   "execution_count": 3,
   "metadata": {},
   "outputs": [],
   "source": [
    "import pandas as pd\n",
    "import numpy as np\n",
    "import matplotlib.pyplot as plt"
   ]
  },
  {
   "cell_type": "code",
   "execution_count": 4,
   "metadata": {},
   "outputs": [
    {
     "name": "stdout",
     "output_type": "stream",
     "text": [
      "Variância e desvio padrão: 8.0 2.8284271247461903\n"
     ]
    }
   ],
   "source": [
    "# Dados\n",
    "X = [3, 5, 7, 9, 11]\n",
    "\n",
    "# Passo 1: Calcular a média\n",
    "media = sum(X) / len(X)\n",
    "\n",
    "# Passo 2: Calcular as diferenças em relação à média e elevar ao quadrado\n",
    "diferencas_quadradas = [(x - media) ** 2 for x in X]\n",
    "\n",
    "# Passo 3: Calcular a variância\n",
    "variancia = sum(diferencas_quadradas) / len(X)\n",
    "\n",
    "desvio_padrao = np.std(X)\n",
    "\n",
    "# Resultado\n",
    "print(\"Variância e desvio padrão:\", variancia, desvio_padrao)"
   ]
  },
  {
   "cell_type": "code",
   "execution_count": 6,
   "metadata": {},
   "outputs": [
    {
     "name": "stdout",
     "output_type": "stream",
     "text": [
      "Covariância: 4.0\n",
      "Correlação: 0.9999999999999999\n"
     ]
    }
   ],
   "source": [
    "# Dados\n",
    "X = np.array([1, 2, 3, 4, 5])\n",
    "Y = np.array([2, 4, 6, 8, 10])\n",
    "\n",
    "# Covariância\n",
    "covariancia = np.cov(X, Y, bias=True)[0, 1]\n",
    "print(\"Covariância:\", covariancia)\n",
    "\n",
    "# Correlação\n",
    "correlacao = np.corrcoef(X, Y)[0, 1]\n",
    "print(\"Correlação:\", correlacao)"
   ]
  },
  {
   "cell_type": "code",
   "execution_count": 7,
   "metadata": {},
   "outputs": [
    {
     "name": "stdout",
     "output_type": "stream",
     "text": [
      "Equação da regressão: Y = 40.00 + 5.00X\n",
      "Nota prevista para 7 horas de estudo: 75.00\n"
     ]
    }
   ],
   "source": [
    "# Dados\n",
    "X = np.array([2, 4, 6, 8, 10])  # Horas de estudo\n",
    "Y = np.array([50, 60, 70, 80, 90])  # Notas na prova\n",
    "\n",
    "# Médias\n",
    "mu_X = np.mean(X)\n",
    "mu_Y = np.mean(Y)\n",
    "\n",
    "# Coeficiente angular (β1)\n",
    "numerador = np.sum((X - mu_X) * (Y - mu_Y))\n",
    "denominador = np.sum((X - mu_X) ** 2)\n",
    "beta_1 = numerador / denominador\n",
    "\n",
    "# Intercepto (β0)\n",
    "beta_0 = mu_Y - beta_1 * mu_X\n",
    "\n",
    "# Equação da regressão\n",
    "print(f\"Equação da regressão: Y = {beta_0:.2f} + {beta_1:.2f}X\")\n",
    "\n",
    "# Prever uma nota para 7 horas de estudo\n",
    "X_novo = 7\n",
    "Y_previsto = beta_0 + beta_1 * X_novo\n",
    "print(f\"Nota prevista para {X_novo} horas de estudo: {Y_previsto:.2f}\")"
   ]
  },
  {
   "cell_type": "code",
   "execution_count": null,
   "metadata": {},
   "outputs": [],
   "source": []
  },
  {
   "cell_type": "code",
   "execution_count": null,
   "metadata": {},
   "outputs": [],
   "source": []
  },
  {
   "cell_type": "code",
   "execution_count": null,
   "metadata": {},
   "outputs": [],
   "source": []
  },
  {
   "cell_type": "code",
   "execution_count": null,
   "metadata": {},
   "outputs": [],
   "source": []
  }
 ],
 "metadata": {
  "kernelspec": {
   "display_name": "Python 3",
   "language": "python",
   "name": "python3"
  },
  "language_info": {
   "codemirror_mode": {
    "name": "ipython",
    "version": 3
   },
   "file_extension": ".py",
   "mimetype": "text/x-python",
   "name": "python",
   "nbconvert_exporter": "python",
   "pygments_lexer": "ipython3",
   "version": "3.13.2"
  }
 },
 "nbformat": 4,
 "nbformat_minor": 2
}
